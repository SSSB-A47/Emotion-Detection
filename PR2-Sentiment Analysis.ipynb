{
 "cells": [
  {
   "cell_type": "code",
   "execution_count": 1,
   "id": "d99f3efe-f031-4438-8222-1b09640477e4",
   "metadata": {},
   "outputs": [],
   "source": [
    "# 1. Import libraries\n",
    "import re\n",
    "import pandas as pd\n",
    "import numpy as np\n",
    "import matplotlib.pyplot as plt\n",
    "import seaborn as sns\n",
    "\n",
    "from sklearn.model_selection import train_test_split\n",
    "from sklearn.feature_extraction.text import TfidfVectorizer\n",
    "from sklearn.preprocessing import MinMaxScaler, StandardScaler\n",
    "from sklearn.linear_model import LogisticRegression\n",
    "from sklearn.metrics import accuracy_score, classification_report, confusion_matrix\n"
   ]
  },
  {
   "cell_type": "code",
   "execution_count": null,
   "id": "8cd668ef-7899-4a2d-914b-a9e41196d0b3",
   "metadata": {},
   "outputs": [],
   "source": [
    "# 2. Load dataset (replace path with your CSV file)\n",
    "df = pd.read_cs(r\"C:\\Users\\simra\\Downloads\\combined_emotion.csv\")  # expects columns like 'sentence' and 'emotion'\n"
   ]
  },
  {
   "cell_type": "code",
   "execution_count": 4,
   "id": "dee7ada4-b1fc-43ae-8a11-dac3dcd6c03d",
   "metadata": {},
   "outputs": [],
   "source": [
    "import pandas as pd\n",
    "\n",
    "# Correct method name\n",
    "df = pd.read_csv(r\"C:\\Users\\simra\\Downloads\\combined_emotion.csv\")\n"
   ]
  },
  {
   "cell_type": "code",
   "execution_count": null,
   "id": "ab4633a0-cd55-4894-b71d-76abaeaae4b0",
   "metadata": {},
   "outputs": [],
   "source": [
    "import pandas as pd\n",
    "from sklearn.model_selection import train_test_split\n",
    "from sklearn.feature_extraction.text import TfidfVectorizer\n",
    "from sklearn.linear_model import LogisticRegression\n",
    "from sklearn.pipeline import Pipeline\n",
    "from sklearn.metrics import classification_report\n",
    "\n",
    "# 1. Load dataset (make sure the CSV file is in the same folder)\n",
    "df = pd.read_csv(r\"C:\\Users\\simra\\Downloads\\combined_emotion.csv\")\n",
    "\n",
    "# 2. Train-test split\n",
    "X = df['sentence']\n",
    "y = df['emotion']\n",
    "X_train, X_test, y_train, y_test = train_test_split(X, y, test_size=0.2, random_state=42, stratify=y)\n",
    "\n",
    "# 3. Build model pipeline (TF-IDF + Logistic Regression)\n",
    "model = Pipeline([\n",
    "    ('tfidf', TfidfVectorizer(ngram_range=(1,2), stop_words='english')),\n",
    "    ('logreg', LogisticRegression(max_iter=2000, class_weight='balanced'))\n",
    "])\n",
    "\n",
    "# 4. Train the model\n",
    "model.fit(X_train, y_train)\n",
    "\n",
    "# 5. Evaluate on test set\n",
    "y_pred = model.predict(X_test)\n",
    "print(\"Model Performance on Test Set:\\n\")\n",
    "print(classification_report(y_test, y_pred))\n",
    "\n",
    "# 6. User input and prediction loop\n",
    "while True:\n",
    "    user_input = input(\"\\nEnter a message to predict emotion (or type 'exit' to quit): \")\n",
    "    if user_input.lower() == 'exit':\n",
    "        break\n",
    "    prediction = model.predict([user_input])[0]\n",
    "    print(f\"Predicted Emotion: {prediction}\")"
   ]
  },
  {
   "cell_type": "code",
   "execution_count": 13,
   "id": "4b349aaa-74ef-4581-83ec-b09b78761215",
   "metadata": {},
   "outputs": [
    {
     "name": "stdout",
     "output_type": "stream",
     "text": [
      "Requirement already satisfied: mediapipe in c:\\users\\simra\\anaconda3\\lib\\site-packages (0.10.21)\n",
      "Requirement already satisfied: opencv-python in c:\\users\\simra\\anaconda3\\lib\\site-packages (4.11.0.86)\n",
      "Requirement already satisfied: numpy in c:\\users\\simra\\anaconda3\\lib\\site-packages (1.26.4)\n",
      "Requirement already satisfied: scikit-learn in c:\\users\\simra\\anaconda3\\lib\\site-packages (1.5.1)\n",
      "Requirement already satisfied: absl-py in c:\\users\\simra\\anaconda3\\lib\\site-packages (from mediapipe) (2.3.0)\n",
      "Requirement already satisfied: attrs>=19.1.0 in c:\\users\\simra\\anaconda3\\lib\\site-packages (from mediapipe) (23.1.0)\n",
      "Requirement already satisfied: flatbuffers>=2.0 in c:\\users\\simra\\anaconda3\\lib\\site-packages (from mediapipe) (25.2.10)\n",
      "Requirement already satisfied: jax in c:\\users\\simra\\anaconda3\\lib\\site-packages (from mediapipe) (0.6.1)\n",
      "Requirement already satisfied: jaxlib in c:\\users\\simra\\anaconda3\\lib\\site-packages (from mediapipe) (0.6.1)\n",
      "Requirement already satisfied: matplotlib in c:\\users\\simra\\anaconda3\\lib\\site-packages (from mediapipe) (3.9.2)\n",
      "Requirement already satisfied: opencv-contrib-python in c:\\users\\simra\\anaconda3\\lib\\site-packages (from mediapipe) (4.11.0.86)\n",
      "Requirement already satisfied: protobuf<5,>=4.25.3 in c:\\users\\simra\\anaconda3\\lib\\site-packages (from mediapipe) (4.25.3)\n",
      "Requirement already satisfied: sounddevice>=0.4.4 in c:\\users\\simra\\anaconda3\\lib\\site-packages (from mediapipe) (0.5.2)\n",
      "Requirement already satisfied: sentencepiece in c:\\users\\simra\\anaconda3\\lib\\site-packages (from mediapipe) (0.2.0)\n",
      "Requirement already satisfied: scipy>=1.6.0 in c:\\users\\simra\\anaconda3\\lib\\site-packages (from scikit-learn) (1.13.1)\n",
      "Requirement already satisfied: joblib>=1.2.0 in c:\\users\\simra\\anaconda3\\lib\\site-packages (from scikit-learn) (1.4.2)\n",
      "Requirement already satisfied: threadpoolctl>=3.1.0 in c:\\users\\simra\\anaconda3\\lib\\site-packages (from scikit-learn) (3.5.0)\n",
      "Requirement already satisfied: CFFI>=1.0 in c:\\users\\simra\\anaconda3\\lib\\site-packages (from sounddevice>=0.4.4->mediapipe) (1.17.1)\n",
      "Requirement already satisfied: pycparser in c:\\users\\simra\\anaconda3\\lib\\site-packages (from CFFI>=1.0->sounddevice>=0.4.4->mediapipe) (2.21)\n",
      "Requirement already satisfied: ml_dtypes>=0.5.0 in c:\\users\\simra\\anaconda3\\lib\\site-packages (from jax->mediapipe) (0.5.1)\n",
      "Requirement already satisfied: opt_einsum in c:\\users\\simra\\anaconda3\\lib\\site-packages (from jax->mediapipe) (3.4.0)\n",
      "Requirement already satisfied: contourpy>=1.0.1 in c:\\users\\simra\\anaconda3\\lib\\site-packages (from matplotlib->mediapipe) (1.2.0)\n",
      "Requirement already satisfied: cycler>=0.10 in c:\\users\\simra\\anaconda3\\lib\\site-packages (from matplotlib->mediapipe) (0.11.0)\n",
      "Requirement already satisfied: fonttools>=4.22.0 in c:\\users\\simra\\anaconda3\\lib\\site-packages (from matplotlib->mediapipe) (4.51.0)\n",
      "Requirement already satisfied: kiwisolver>=1.3.1 in c:\\users\\simra\\anaconda3\\lib\\site-packages (from matplotlib->mediapipe) (1.4.4)\n",
      "Requirement already satisfied: packaging>=20.0 in c:\\users\\simra\\anaconda3\\lib\\site-packages (from matplotlib->mediapipe) (24.1)\n",
      "Requirement already satisfied: pillow>=8 in c:\\users\\simra\\anaconda3\\lib\\site-packages (from matplotlib->mediapipe) (10.2.0)\n",
      "Requirement already satisfied: pyparsing>=2.3.1 in c:\\users\\simra\\anaconda3\\lib\\site-packages (from matplotlib->mediapipe) (3.1.2)\n",
      "Requirement already satisfied: python-dateutil>=2.7 in c:\\users\\simra\\anaconda3\\lib\\site-packages (from matplotlib->mediapipe) (2.9.0.post0)\n",
      "Requirement already satisfied: six>=1.5 in c:\\users\\simra\\anaconda3\\lib\\site-packages (from python-dateutil>=2.7->matplotlib->mediapipe) (1.16.0)\n",
      "Note: you may need to restart the kernel to use updated packages.\n"
     ]
    }
   ],
   "source": [
    "!pip install mediapipe opencv-python numpy scikit-learn\n"
   ]
  },
  {
   "cell_type": "code",
   "execution_count": 2,
   "id": "2f22c5aa-8188-4665-b583-35a3d0966a74",
   "metadata": {},
   "outputs": [
    {
     "name": "stderr",
     "output_type": "stream",
     "text": [
      "C:\\Users\\simra\\anaconda3\\Lib\\site-packages\\sklearn\\linear_model\\_logistic.py:1247: FutureWarning: 'multi_class' was deprecated in version 1.5 and will be removed in 1.7. From then on, it will always use 'multinomial'. Leave it to its default value to avoid this warning.\n",
      "  warnings.warn(\n"
     ]
    },
    {
     "name": "stdout",
     "output_type": "stream",
     "text": [
      "Detected emotion: Happy @ 0.25\n"
     ]
    }
   ],
   "source": [
    "import cv2\n",
    "import mediapipe as mp\n",
    "import numpy as np\n",
    "import pickle\n",
    "from sklearn.linear_model import LogisticRegression\n",
    "from sklearn.model_selection import train_test_split\n",
    "\n",
    "# Replace CSV-based loading/training with synthetic/data-driven approach if no CSV is available\n",
    "\n",
    "# -- Sample Training (placeholder) --\n",
    "# If you have a CSV, use it here. Otherwise, skip to inference.\n",
    "# For demo purposes:\n",
    "X_train = np.random.rand(100, 468*2)\n",
    "y_train = np.random.randint(0, 7, 100)  # 7 emotions\n",
    "clf = LogisticRegression(max_iter=1000, multi_class='multinomial')\n",
    "clf.fit(X_train, y_train)\n",
    "\n",
    "with open('emotion_lr.pkl','wb') as f:\n",
    "    pickle.dump(clf, f)\n",
    "\n",
    "# --- Inference on a Single Image ---\n",
    "model = pickle.load(open('emotion_lr.pkl','rb'))\n",
    "EMOTIONS = ['Angry','Disgust','Fear','Happy','Sad','Surprise','Neutral']\n",
    "\n",
    "mp_face = mp.solutions.face_mesh\n",
    "face_mesh = mp_face.FaceMesh(static_image_mode=True, max_num_faces=1)\n",
    "\n",
    "# 🔁 Replace this with your image path:\n",
    "img_path = r\"C:\\Users\\simra\\Downloads\\Happy.jpg.png\"\n",
    "img = cv2.imread(img_path)\n",
    "if img is None:\n",
    "    raise FileNotFoundError(f\"Cannot find image at {img_path}\")\n",
    "\n",
    "rgb = cv2.cvtColor(img, cv2.COLOR_BGR2RGB)\n",
    "results = face_mesh.process(rgb)\n",
    "\n",
    "if not results.multi_face_landmarks:\n",
    "    raise ValueError(\"No face detected in the image.\")\n",
    "\n",
    "# Use first detected face\n",
    "landmarks = results.multi_face_landmarks[0]\n",
    "pts = [coord for lm in landmarks.landmark for coord in (lm.x, lm.y)]\n",
    "data = np.array(pts).reshape(1, -1)\n",
    "\n",
    "proba = model.predict_proba(data)[0]\n",
    "idx = np.argmax(proba)\n",
    "\n",
    "emotion = EMOTIONS[idx]\n",
    "score = proba[idx]\n",
    "\n",
    "print(f\"Detected emotion: {emotion} @ {score:.2f}\")\n"
   ]
  },
  {
   "cell_type": "code",
   "execution_count": null,
   "id": "749aebbe-04f1-4fcd-893a-80595b471529",
   "metadata": {},
   "outputs": [],
   "source": []
  }
 ],
 "metadata": {
  "kernelspec": {
   "display_name": "Python 3 (ipykernel)",
   "language": "python",
   "name": "python3"
  },
  "language_info": {
   "codemirror_mode": {
    "name": "ipython",
    "version": 3
   },
   "file_extension": ".py",
   "mimetype": "text/x-python",
   "name": "python",
   "nbconvert_exporter": "python",
   "pygments_lexer": "ipython3",
   "version": "3.12.7"
  }
 },
 "nbformat": 4,
 "nbformat_minor": 5
}
